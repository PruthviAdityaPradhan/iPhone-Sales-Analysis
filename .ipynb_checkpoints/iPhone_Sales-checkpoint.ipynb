{
 "cells": [
  {
   "cell_type": "markdown",
   "id": "6a30965b-7a94-4e93-ae66-577c36e30e2c",
   "metadata": {},
   "source": [
    "# iPhone Sales Analysis"
   ]
  },
  {
   "cell_type": "markdown",
   "id": "9c705212-46fb-42c0-996c-0d341c74ea19",
   "metadata": {},
   "source": [
    "### Creating Dataframe of the dataset"
   ]
  },
  {
   "cell_type": "code",
   "execution_count": 1,
   "id": "52f77264-c7b0-49c4-b53b-bb24f6e1b711",
   "metadata": {},
   "outputs": [],
   "source": [
    "import numpy as np\n",
    "import pandas as pd\n",
    "import matplotlib.pyplot as plt\n",
    "\n",
    "Order_Details = pd.read_csv('Order_details(masked).csv')"
   ]
  }
 ],
 "metadata": {
  "kernelspec": {
   "display_name": "Python 3 (ipykernel)",
   "language": "python",
   "name": "python3"
  },
  "language_info": {
   "codemirror_mode": {
    "name": "ipython",
    "version": 3
   },
   "file_extension": ".py",
   "mimetype": "text/x-python",
   "name": "python",
   "nbconvert_exporter": "python",
   "pygments_lexer": "ipython3",
   "version": "3.11.4"
  }
 },
 "nbformat": 4,
 "nbformat_minor": 5
}
